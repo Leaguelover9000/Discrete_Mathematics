{
 "cells": [
  {
   "cell_type": "markdown",
   "id": "ec461e7c-d19d-4a33-86c3-b1823b361ec7",
   "metadata": {},
   "source": [
    "1. A\\B = A  $\\cap$ $B^c$\n",
    "\n",
    "Let x $\\in$ A\\B\\\n",
    "x $\\in$ A and x $\\notin$ B\\\n",
    "x $\\in$ A and x $\\in$ $B^C$\\\n",
    "x $\\in$ A $\\cap$ $B^C$\\\n",
    "A\\B $\\subseteq$ A $\\cap$ $B^C$ **or** A\\B = A $\\cap$ $B^C$\n",
    "\n",
    "\n"
   ]
  },
  {
   "cell_type": "code",
   "execution_count": null,
   "id": "f28d9c85-73cb-4bfd-943a-591ebf7a9591",
   "metadata": {},
   "outputs": [],
   "source": [
    "A = {1, 2}\n",
    "B = {1}\n",
    "U = A.union(B)\n",
    "print(A-B)\n",
    "print('A intersect ~B is', A&(U-B))\n",
    "print(A-B, '=', A&(U-B) ).\n"
   ]
  },
  {
   "cell_type": "markdown",
   "id": "2c6ddaf0-f048-45b0-a6df-7a522dd568bf",
   "metadata": {},
   "source": [
    "B = (B $\\cap$ A) $\\cup$ (B $\\cap$ $A^c$)\n",
    "\n",
    "    x $\\in$ (B $\\cup$ (A $\\cap$ $A^C$)) $\\cap$ (B $\\cup$ ($A^C$ $\\cap$ A))\\\n",
    "    x $\\in$ (B $\\cap$ U) $\\cup$ (B $\\cap$ U)\\\n",
    "    x $\\in$ B $\\cup$ B\\\n",
    "    x $\\in$ B\\\n",
    "    B = (B $\\cap$ A) $\\cup$ (B $\\cap$ $A^C$)\n"
   ]
  },
  {
   "cell_type": "code",
   "execution_count": null,
   "id": "685525c9-1d83-4aac-a2c6-c3a5b31be068",
   "metadata": {},
   "outputs": [],
   "source": [
    "B = {1, 2}\n",
    "A = {1, 3}\n",
    "U = A.union(B)\n",
    "print('A =',A)\n",
    "print('B =',B)\n",
    "print('A intersect B is', A&B)\n",
    "print('B intersect ~A', B&(U-A))\n",
    "print((A&B).union(B&(U-A)))\n",
    "print('Therefore',B, '=', (A&B).union(B&(U-A)) )\n"
   ]
  },
  {
   "cell_type": "markdown",
   "id": "ae3cb6fb-eb67-47d9-8397-55187f49126a",
   "metadata": {},
   "source": [
    "B\\A = B $\\cap A^c$\n",
    "\n",
    "x $\\in$ B and x $\\notin$ A\\\n",
    "x $\\in$ B and x $\\in$ $A^C$\\\n",
    "x $\\in$ B $\\cap$ $A^C$\\\n",
    "B\\A $\\subseteq$ B $\\cap$ $A^C$ **or** B\\A = B $\\cap$ $A^C$\n"
   ]
  },
  {
   "cell_type": "code",
   "execution_count": null,
   "id": "eabf8260-6000-4d1f-b078-2a54355d54eb",
   "metadata": {},
   "outputs": [],
   "source": [
    "B = {1, 2}\n",
    "A = {1, 3}\n",
    "U = A.union(B)\n",
    "\n",
    "print('B \\ A =', B-A)\n",
    "print('B intersect ~A =', B&(U-A))\n",
    "print('Therefore',B-A, '=', B&(U-A))"
   ]
  },
  {
   "cell_type": "code",
   "execution_count": null,
   "id": "8634cc2b-3f58-4bea-b63e-eefcb8548e17",
   "metadata": {},
   "outputs": [],
   "source": [
    "A $\\cup$ B = A $\\cup$ (B $\\cap$ $A^c$)\n",
    "\n",
    "A  = {1, 2} <br>\n",
    "B  = {1, 3} <br>\n",
    "U = A $\\cup$ B <br><br>\n",
    "\n",
    "Proof: <br>\n",
    "A $\\cup$ B $\\subseteq$ U"
   ]
  },
  {
   "cell_type": "code",
   "execution_count": null,
   "id": "e162f2e6-eb80-4d42-8d1e-9d045c4bb0c2",
   "metadata": {},
   "outputs": [],
   "source": [
    "B = {1, 2}\n",
    "A = {1, 3}\n",
    "U = A.union(B)\n",
    "print('')\n",
    "\n",
    "print('A union B =',A.union(B))\n",
    "print(A)\n",
    "print(B&(U-A))\n",
    "print('Set A union with Set B intersect ~A',A.union(B&(U-A)))\n",
    "print('Therefore', A.union(B), '=', A.union(B&(U-A)))"
   ]
  },
  {
   "cell_type": "markdown",
   "id": "12b03102-8a8d-45b8-b495-7ad021f13f66",
   "metadata": {},
   "source": [
    "$(U^\\infty _{i=1} A^c_i)^c$\\ = $\\cap^\\infty _{i=1}$  $A^c_i$"
   ]
  },
  {
   "cell_type": "markdown",
   "id": "373e9c3e-0108-4d7f-b6d8-78a495ecde8a",
   "metadata": {},
   "source": [
    " $\\bigcap$ $ _{i=1}^{\\infty} A_{i}$ = $\\bigcap$ $ _{i=1}^{\\infty} A_{i}$ $\\therefore$ $(\\bigcup$ $ _{i=1}^{\\infty} A_{i}^{c})^{c}$ = $\\cap_{i=1}^{\\infty}A_{i}$ is true.\n",
    "***"
   ]
  },
  {
   "cell_type": "markdown",
   "id": "a3462c8e-496f-418b-9a14-74fbc71988ad",
   "metadata": {},
   "source": [
    "- Let sets $\\textbf{A} = \\{x|x \\in \\mathbb{Z}, 0 \\leq x \\leq 9\\},$ <br>\n",
    "$\\textbf{B} = \\{ 2,4,6,8\\},\n",
    "\\ and \\ $ <br>\n",
    "$\\textbf{C}  = \\{ 1,3,5,7,9\\} \n",
    "\\ and \\ $ <br> $\\textbf{D}  = \\{ 3,4,5\\}$ <br>\n",
    "Find a set $\\textbf{X}$ which will satisfy the following conditions:\n",
    "    1. $\\textbf{X} \\ and \\ \\textbf{B}$ are disjoint.\n",
    "    2. $\\textbf{X} \\subseteq \\textbf{D}$ but $\\textbf{X} \\nsubseteq \\textbf{B}$.\n",
    "    3. $\\textbf{X} \\subseteq \\textbf{A}$ but $\\textbf{X} \\not\\subset \\textbf{C}$.\n",
    "    \n",
    "    \n",
    "    1. X $\\cap$ B = $\\emptyset$\n",
    "- X = B$^c$\n",
    "- B$^c$ = $U$ - B\n",
    "- $U$ = A $\\cup$ B $\\cup$ C $\\cup$ D = {0,1,2,3,4,5,6,7,8,9}\n",
    "- $U$ - B = {0,1,2,3,4,5,6,7,8,9} - {2,4,6,8} = {0,1,3,5,7,9}\n",
    "- X = {0,1,3,5,7,9}\n",
    "- Proof: (X $\\cap$ B = $\\emptyset$) = ( {0,1,3,5,7,9} $\\cap$ {2,4,6,8} = $\\emptyset$} )\n",
    "1. Answer:\n",
    "- (For X to be disjoint to B) X = {0,1,3,5,7,9}\n",
    "\n",
    "2.  $\\textbf{X} \\subseteq \\textbf{D} \\wedge \\textbf{X} \\nsubseteq \\textbf{B}$.\n",
    "- X = D = {3,4,5}\n",
    "- X = {3,4,5}\n",
    "- (X - B) = ( {3,4,5} - {2,4,6,8} )\n",
    "- X = {3,5}\n",
    "2. Answer:\n",
    "- (For X to be a subset of D but not a subset of B) X = {3,5}\n",
    "\n",
    "3.  $\\textbf{X} \\subseteq \\textbf{A} \\wedge \\textbf{X} \\nsubseteq \\textbf{C}$.\n",
    "- X = A = {0,1,2,3,4,5,6,7,8,9}\n",
    "- X = {0,1,2,3,4,5,6,7,8,9}\n",
    "- (X - C) = ( {0,1,2,3,4,5,6,7,8,9} - {1,3,5,7,9} )\n",
    "- X = {0,2,4,6,8}\n",
    "3. Answer:\n",
    "- (For X to be a subset of A but not a subset of C) X = {0,2,4,6,8} - \n",
    "---\n",
    "- Additional Answer If a set of X is being asked to be found to satisfy ALL three conditions, then: ∄X"
   ]
  },
  {
   "cell_type": "markdown",
   "id": "0a9ea671-8e13-485f-970a-7cb2a1a54d55",
   "metadata": {},
   "source": [
    "# Set  Symmetric  Difference"
   ]
  },
  {
   "cell_type": "markdown",
   "id": "81f21639-bde4-4a7c-bfb6-856bd82c88da",
   "metadata": {},
   "source": [
    "$ C = \\{5,6,7,8,9\\} $\n",
    "\n",
    "$ D = \\{1,3,5,7,9\\} $\n",
    "\n",
    "$ C \\oplus D $\n",
    "\n",
    "$ C \\oplus D = (C \\cap D) \\ (C \\cup D) = (C \\setminus D) \\cup (D \\setminus C) $\n",
    "\n",
    "$ C \\oplus D = \\{1,3,6,8\\} $\n",
    "\n"
   ]
  },
  {
   "cell_type": "code",
   "execution_count": 10,
   "id": "9a338e13-3127-4557-8982-2143c32a1d93",
   "metadata": {},
   "outputs": [
    {
     "name": "stdout",
     "output_type": "stream",
     "text": [
      "{1, 3, 6, 8}\n"
     ]
    }
   ],
   "source": [
    "C = {5,6,7,8,9}\n",
    "D = {1,3,5,7,9}\n",
    " \n",
    "result = C ^ D\n",
    "print(result)"
   ]
  },
  {
   "cell_type": "markdown",
   "id": "94046e27-18ad-4d84-930e-35f6e8331722",
   "metadata": {},
   "source": [
    "$ A = {1,2,3,4,5,} $\n",
    "\n",
    "$ B = {4,5,6,7,} $\n",
    "\n",
    "$ A\\setminus B $\n",
    "\n",
    "$ |A-B| = |A| - |A \\cap B| $\n",
    "\n",
    "$ A\\setminus B = {1,2,3} $\n",
    "\n"
   ]
  },
  {
   "cell_type": "code",
   "execution_count": 2,
   "id": "82a1c541-e710-4363-a835-2ecce52d5904",
   "metadata": {},
   "outputs": [
    {
     "name": "stdout",
     "output_type": "stream",
     "text": [
      "{1, 2, 3}\n"
     ]
    }
   ],
   "source": [
    "A = {1,2,3,4,5,}\n",
    "B = {4,5,6,7}\n",
    " \n",
    "result_in_A = A-B\n",
    "print(result_in_A)"
   ]
  },
  {
   "cell_type": "markdown",
   "id": "fa908497-7237-415d-9433-c2a5c6a2a459",
   "metadata": {},
   "source": [
    "$ A = {1,2,3,4,5,} $\n",
    "\n",
    "$ B = {4,5,6,7,} $\n",
    "\n",
    "$ B\\setminus A $\n",
    "\n",
    "$ |B-A| = |B| - |B \\cap A| $\n",
    "\n",
    "$ B\\setminus A = {6,7} $"
   ]
  },
  {
   "cell_type": "code",
   "execution_count": 2,
   "id": "febdea4b-cfa0-48eb-b5fa-c8c457b12416",
   "metadata": {},
   "outputs": [
    {
     "name": "stdout",
     "output_type": "stream",
     "text": [
      "{6, 7}\n"
     ]
    }
   ],
   "source": [
    "A = {1,2,3,4,5,}\n",
    "B = {4,5,6,7}\n",
    " \n",
    "result_in_B = B-A\n",
    "print(result_in_B)"
   ]
  },
  {
   "cell_type": "markdown",
   "id": "178939ef-ea30-4c37-a69d-b69dcaaec5e4",
   "metadata": {},
   "source": [
    "$ E = {2,4,6,8} $\n",
    "\n",
    "$ F = {1,5,9} $\n",
    "\n",
    "$ E \\oplus F $\n",
    "\n",
    "$ E \\oplus F = (E \\cap F) \\ (E \\cup F) = (E \\setminus F) \\cup (F \\setminus E) $\n",
    "\n",
    "$ E \\oplus F = {1,2,4,5,6,8,9} $"
   ]
  },
  {
   "cell_type": "code",
   "execution_count": 14,
   "id": "03cbba57-f9b9-40fc-97ff-f9c95ec959c0",
   "metadata": {},
   "outputs": [
    {
     "name": "stdout",
     "output_type": "stream",
     "text": [
      "{1, 2, 4, 5, 6, 8, 9}\n"
     ]
    }
   ],
   "source": [
    "E = {2,4,6,8}\n",
    "F = {1,5,9}\n",
    " \n",
    "result = E ^ F\n",
    "print(result)"
   ]
  },
  {
   "cell_type": "markdown",
   "id": "fd446391-064c-41e2-84f6-dc40a3b0b268",
   "metadata": {
    "scrolled": true
   },
   "source": [
    "\""
   ]
  },
  {
   "cell_type": "markdown",
   "id": "5ab493c8-4388-417a-adf9-e13415baff74",
   "metadata": {},
   "source": [
    "# 4. Finite Sets and The Counting Principles"
   ]
  },
  {
   "cell_type": "code",
   "execution_count": 14,
   "id": "63dd9270-b710-4b5d-9a87-1d6fc8b2fa0e",
   "metadata": {},
   "outputs": [
    {
     "name": "stdout",
     "output_type": "stream",
     "text": [
      "1. Draw the venn diagram using python.\n"
     ]
    },
    {
     "data": {
      "image/png": "[encoded data removed]",
      "text/plain": [
       "<Figure size 640x480 with 1 Axes>"
      ]
     },
     "metadata": {},
     "output_type": "display_data"
    }
   ],
   "source": [
    "print('1. Draw the venn diagram using python.')\n",
    "\n",
    "from matplotlib_venn import venn2, venn3\n",
    "import matplotlib.pyplot as plt\n",
    "\n",
    "newsweek = 65 - (20 + 25 - 8)\n",
    "times = 45 - (20 + 15 - 8)\n",
    "fortune = 42 - (25 + 15 - 8)\n",
    "newsweek_and_times = 20 - 8\n",
    "newsweek_and_fortune = 25 - 8\n",
    "times_and_fortune = 15 - 8\n",
    "all = 8\n",
    "\n",
    "X = 65 + 45 + 42 - 25 - 20 - 15 + 8\n",
    "\n",
    "fortune = 42 - 25 - 15 + 8\n",
    "newsweek = 65 - 25 - 20 + 8\n",
    "times = 45 - 15 -20 + 8\n",
    "\n",
    "Y = fortune + newsweek + times\n",
    "\n",
    "venn = venn3(subsets=(newsweek_only, times_only, newsweek_and_times,\n",
    "                      fortune_only, newsweek_and_fortune, times_and_fortune, all_three),\n",
    "          set_labels=('Newsweek', 'Times', 'Fortune'))\n",
    "\n",
    "plt.title(\"Venn Diagram Magazines\")\n",
    "plt.show()"
   ]
  },
  {
   "cell_type": "markdown",
   "id": "97ab9315-839b-4573-ae56-9eda616832b7",
   "metadata": {},
   "source": [
    "# B. In a survey of 25 new cars...\n",
    "being sold at a local auto dealer was conducted to see which of the three popular options: air-conditioning, denoted as A; radio, denoted as R; and power windows, denoted as W were installed. The survey found that:\n",
    "- 15 had A. HINT: The condition said $\\textbf{\"had an A\"}$  $\\textbf{ AND NOT}$  $\\textbf{\"had an A only\"}$\n",
    "- 12 had R. HINT: The condition said $\\textbf{\"had a R\"}$  $\\textbf{ AND NOT}$  $\\textbf{\"had a R only\"}$\n",
    "- 11 had W. HINT: The condition said $\\textbf{\"had a W\"}$  $\\textbf{ AND NOT}$  $\\textbf{\"had a W only\"}$\n",
    "- 5 had A and W.\n",
    "- 9 had A and R.\n",
    "- 4 had R and W.\n",
    "- Only 3 hace the three options.\n",
    "\n",
    "With these information do the following:<br>\n",
    "1. Draw the venn diagram using python.<br>\n",
    "2. Find the number of cars with W only.<br>\n",
    "3. Find the number of cars with A only.<br>\n",
    "4. Find the number of cars with R only.<br>\n",
    "5. Find the number of cars with both R and W but not A.<br>\n",
    "6. Find the number of cars with both A and R but not W.<br>\n",
    "7. Find the number of cars with only one of the options.<br>\n",
    "8. Find the number of cars with at least one option.<br>\n",
    "9. Find the number of cars with none of the Options.<br>"
   ]
  },
  {
   "cell_type": "code",
   "execution_count": 17,
   "id": "35f39ab8-718f-4358-9893-d5648d5141d7",
   "metadata": {},
   "outputs": [
    {
     "data": {
      "image/png": "[encoded data removed]",
      "text/plain": [
       "<Figure size 640x480 with 1 Axes>"
      ]
     },
     "metadata": {},
     "output_type": "display_data"
    }
   ],
   "source": [
    "venn3(subsets = (15, 12, 9, 11, 5, 4, 3), set_labels = ('A', 'R', 'P'))\n",
    "plt.show()"
   ]
  },
  {
   "cell_type": "markdown",
   "id": "c3268a6f-ddb4-4b1b-b4e1-f68c8c4d6c81",
   "metadata": {},
   "source": [
    "$|A|=15$\n",
    "\n",
    "$|R|=12$\n",
    "\n",
    "$|W|=11$\n",
    "\n",
    "$|A \\cap W| = 5$\n",
    "\n",
    "$|A \\cap R| = 9$\n",
    "\n",
    "$|R \\cap W| = 4$\n",
    "\n",
    "$|A \\cap W \\cap R| = 3$\n",
    "\n",
    "\n",
    "2. Number of cars with W only\n",
    "\n",
    "W \\_only = $ |W| - |W \\cap A| - |W \\cap R| + |W \\cap R \\cap A| $\n",
    "\n",
    "W \\_only = $ 11 - 5 - 4 + 3 = 5 $\n",
    "\n",
    "\n",
    "3. Number of cars with A only\n",
    "\n",
    "A \\_only = $ |A| - |W \\cap A| - |A \\cap R| + |W \\cap R \\cap A| $\n",
    "\n",
    "A \\_only = $ 15 - 5 - 9 + 3 = 4 $\n",
    "\n",
    "\n",
    "4. Number of cars with R only\n",
    "\n",
    "R \\_only = $ |R| - |R \\cap A| - |R \\cap W| + |W \\cap R \\cap A| $\n",
    "\n",
    "R \\_only = $ 12 - 9 - 4 + 3 = 2 $\n",
    "\n",
    "\n",
    "5. Number of cars with both R and W but not A\n",
    "\n",
    "$ |W \\cap R| - |W \\cap R \\cap A|$\n",
    "\n",
    "$ 4 - 3 = 1 $\n",
    "\n",
    "\n",
    "6. Number of cars with both A and R but not W\n",
    "\n",
    "$ |A \\cap R| - |W \\cap R \\cap A|$\n",
    "\n",
    "$ 9 - 3 = 6 $\n",
    "\n",
    "\n",
    "7. Number of cars with only one of the option\n",
    "\n",
    "|A\\_only| + |W\\_only| + |R\\_only|\n",
    "\n",
    "$ 5 + 4 + 2 = 11 $\n",
    "\n",
    "\n",
    "8. Number of cars with at least one option\n",
    "\n",
    "$ |A \\cup W \\cup R| = |A| + |R|+  |W| - |A \\cap W| - |A \\cap R| - |W \\cap R| + |A \\cap W \\cap R| $\n",
    "\n",
    "$ |A \\cup W \\cup R| = 15 + 11 + 12 - 5 - 9 - 4 + 3 = 23 $\n",
    "\n",
    "\n",
    "9. Number of cars with none of the options\n",
    "\n",
    "$ |U| - |A \\cap R \\cap W|$\n",
    "\n",
    "25 - 23 = 2"
   ]
  },
  {
   "cell_type": "code",
   "execution_count": null,
   "id": "370148b4-0ba0-4da5-8794-f30b5e80bc16",
   "metadata": {},
   "outputs": [],
   "source": []
  }
 ],
 "metadata": {
  "kernelspec": {
   "display_name": "Python 3 (ipykernel)",
   "language": "python",
   "name": "python3"
  },
  "language_info": {
   "codemirror_mode": {
    "name": "ipython",
    "version": 3
   },
   "file_extension": ".py",
   "mimetype": "text/x-python",
   "name": "python",
   "nbconvert_exporter": "python",
   "pygments_lexer": "ipython3",
   "version": "3.11.5"
  }
 },
 "nbformat": 4,
 "nbformat_minor": 5
}
